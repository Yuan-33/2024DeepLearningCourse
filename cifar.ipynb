{
  "nbformat": 4,
  "nbformat_minor": 0,
  "metadata": {
    "colab": {
      "provenance": [],
      "gpuType": "T4"
    },
    "kernelspec": {
      "name": "python3",
      "display_name": "Python 3"
    },
    "language_info": {
      "name": "python"
    },
    "accelerator": "GPU"
  },
  "cells": [
    {
      "cell_type": "code",
      "execution_count": 1,
      "metadata": {
        "id": "qp8wSWBPc4WQ"
      },
      "outputs": [],
      "source": [
        "import torchvision\n",
        "from torchvision import transforms as transforms\n",
        "from torch import nn\n",
        "from torch.nn import functional as F\n",
        "from torchsummary import summary\n",
        "import os\n",
        "import torch\n",
        "import matplotlib.pyplot as plt\n"
      ]
    },
    {
      "cell_type": "code",
      "source": [
        "# set seeds\n",
        "torch.cuda.empty_cache()\n",
        "torch.manual_seed(2222)\n",
        "torch.cuda.manual_seed_all(2222)"
      ],
      "metadata": {
        "id": "7MxAYEF_dYgr"
      },
      "execution_count": 2,
      "outputs": []
    },
    {
      "cell_type": "code",
      "source": [
        "# Augmentation transform\n",
        "aug_train = transforms.Compose([\n",
        "    transforms.RandomCrop(32,padding=4,padding_mode='reflect'),\n",
        "    transforms.RandomHorizontalFlip(),\n",
        "    transforms.ToTensor(),\n",
        "    transforms.Normalize((0.5, 0.5, 0.5), (0.5, 0.5, 0.5))\n",
        "    ])\n",
        "aug_test = transforms.Compose([\n",
        "    transforms.ToTensor(),\n",
        "    transforms.Normalize((0.5, 0.5, 0.5), (0.5, 0.5, 0.5))\n",
        "    ])"
      ],
      "metadata": {
        "id": "TWQgZpDQdYix"
      },
      "execution_count": 3,
      "outputs": []
    },
    {
      "cell_type": "code",
      "source": [
        "# load data\n",
        "train_data = torchvision.datasets.CIFAR10('./CIFAR10',train=True,download=True,transform=aug_train)\n",
        "test_data = torchvision.datasets.CIFAR10('./CIFAR10',train=False,download=True,transform=aug_test)\n",
        "batch_size = 128\n",
        "train_dataloader = torch.utils.data.DataLoader(train_data,batch_size=batch_size,shuffle=True)\n",
        "test_dataloader = torch.utils.data.DataLoader(test_data,batch_size=batch_size,shuffle=False)"
      ],
      "metadata": {
        "colab": {
          "base_uri": "https://localhost:8080/"
        },
        "id": "F6ws94i6dYlB",
        "outputId": "d66266df-5396-48f1-cb0f-45e0d68e24e8"
      },
      "execution_count": 4,
      "outputs": [
        {
          "output_type": "stream",
          "name": "stdout",
          "text": [
            "Downloading https://www.cs.toronto.edu/~kriz/cifar-10-python.tar.gz to ./CIFAR10/cifar-10-python.tar.gz\n"
          ]
        },
        {
          "output_type": "stream",
          "name": "stderr",
          "text": [
            "100%|██████████| 170498071/170498071 [00:03<00:00, 46988631.93it/s]\n"
          ]
        },
        {
          "output_type": "stream",
          "name": "stdout",
          "text": [
            "Extracting ./CIFAR10/cifar-10-python.tar.gz to ./CIFAR10\n",
            "Files already downloaded and verified\n"
          ]
        }
      ]
    },
    {
      "cell_type": "code",
      "source": [
        "class BasicBlock(nn.Module):\n",
        "\n",
        "    def __init__(self, in_planes, planes, stride=1,drop_rate=0.0):\n",
        "        super(BasicBlock, self).__init__()\n",
        "        self.conv1 = nn.Conv2d(\n",
        "            in_planes, planes, kernel_size=3, stride=stride, padding=1, bias=False)\n",
        "        self.bn1 = nn.BatchNorm2d(planes)\n",
        "        self.dropout = nn.Dropout(p=drop_rate)  # Add dropout layer\n",
        "        self.conv2 = nn.Conv2d(planes, planes, kernel_size=3,\n",
        "                               stride=1, padding=1, bias=False)\n",
        "        self.bn2 = nn.BatchNorm2d(planes)\n",
        "\n",
        "        self.view_reshape = nn.Sequential()\n",
        "        if stride != 1 or in_planes != planes:\n",
        "            self.view_reshape = nn.Sequential(\n",
        "                nn.Conv2d(in_planes, planes,\n",
        "                          kernel_size=1, stride=stride, bias=False),\n",
        "                nn.BatchNorm2d(planes)\n",
        "            )\n",
        "\n",
        "\n",
        "    def forward(self, x):\n",
        "        out = F.relu(self.bn1(self.conv1(x)))\n",
        "        out = self.dropout(out)  # Apply dropout\n",
        "        out = self.bn2(self.conv2(out))\n",
        "        out += self.view_reshape(x)\n",
        "        out = F.relu(out)\n",
        "        return out"
      ],
      "metadata": {
        "id": "EOL-UWZGdYnZ"
      },
      "execution_count": 5,
      "outputs": []
    },
    {
      "cell_type": "code",
      "source": [
        "class ResNet(nn.Module):\n",
        "\n",
        "    def __init__(self, block, num_blocks, num_classes=10,drop_rate=0.3):\n",
        "        super(ResNet, self).__init__()\n",
        "        self.in_planes = 64\n",
        "        self.drop_rate = drop_rate\n",
        "        self.conv1 = nn.Conv2d(3, self.in_planes, kernel_size=3,\n",
        "                               stride=1, padding=1, bias=False)\n",
        "        self.bn1 = nn.BatchNorm2d(self.in_planes)\n",
        "        self.layer1 = self._make_layer(block, 64, num_blocks[0], stride=1)\n",
        "        self.layer2 = self._make_layer(block, 128, num_blocks[1], stride=2)\n",
        "        self.layer3 = self._make_layer(block, 256, num_blocks[2], stride=2)\n",
        "        self.linear = nn.Linear(1024, num_classes)\n",
        "\n",
        "\n",
        "    def _make_layer(self, block, planes, num_blocks, stride):\n",
        "        strides = [stride] + [1]*(num_blocks-1)\n",
        "        layers = []\n",
        "        for stride in strides:\n",
        "            layers.append(block(self.in_planes, planes, stride))\n",
        "            self.in_planes = planes\n",
        "        return nn.Sequential(*layers)\n",
        "\n",
        "\n",
        "    def forward(self, x):\n",
        "        out = F.relu(self.bn1(self.conv1(x)))\n",
        "        out = self.layer1(out)\n",
        "        out = self.layer2(out)\n",
        "        out = self.layer3(out)\n",
        "        out = F.avg_pool2d(out, 4)\n",
        "        out = out.view(out.size(0), -1)\n",
        "        out = self.linear(out)\n",
        "        return out"
      ],
      "metadata": {
        "id": "XwPqr5LzdYp6"
      },
      "execution_count": 6,
      "outputs": []
    },
    {
      "cell_type": "code",
      "source": [
        "def decay_learning_rate(optimizer, epoch, base_lr=0.1, min_lr=0.001):\n",
        "    \"\"\" Apply advanced dynamic adjustments to the learning rate. \"\"\"\n",
        "    if epoch < 5:\n",
        "        lr = base_lr * (epoch / 5)  # Linear warm-up over 5 epochs\n",
        "    elif epoch < 15:\n",
        "        lr = base_lr\n",
        "    else:\n",
        "        lr = min_lr + (base_lr - min_lr) * (0.5 ** (epoch - 15))  # Exponential decay after 15 epochs\n",
        "    for param_group in optimizer.param_groups:\n",
        "        param_group['lr'] = lr"
      ],
      "metadata": {
        "id": "vi5AgkT9dn9-"
      },
      "execution_count": 7,
      "outputs": []
    },
    {
      "cell_type": "code",
      "source": [
        "# Network structure\n",
        "model = ResNet(BasicBlock, [3,3,2]).cuda()\n",
        "summary(model, input_size=(3,32,32))\n",
        "\n",
        "# HyperParametes Setting\n",
        "# epoch number\n",
        "epoch_num = 30\n",
        "# learning rate changes with epoch changes\n",
        "max_rate = 0.1\n",
        "record = 'model.pt'\n",
        "device = torch.device(\"cuda\" if torch.cuda.is_available() else \"cpu\")\n",
        "train_loss_history = []\n",
        "test_loss_history = []\n",
        "test_accuracy_history = []\n",
        "train_accuracy_history = []\n",
        "# loss function\n",
        "Loss = torch.nn.CrossEntropyLoss()\n",
        "# SGD add momentum better performance\n",
        "optimizer = torch.optim.SGD(model.parameters(),lr=max_rate,momentum=0.8,nesterov=True)\n",
        "# optimizer = torch.optim.Adam(model.parameters(), lr=0.001, betas=(0.9, 0.999), eps=1e-08, weight_decay=0)"
      ],
      "metadata": {
        "colab": {
          "base_uri": "https://localhost:8080/"
        },
        "id": "LqeRPOzOdoAm",
        "outputId": "d22038d3-501a-47b4-fc15-4367060daa38"
      },
      "execution_count": 8,
      "outputs": [
        {
          "output_type": "stream",
          "name": "stdout",
          "text": [
            "----------------------------------------------------------------\n",
            "        Layer (type)               Output Shape         Param #\n",
            "================================================================\n",
            "            Conv2d-1           [-1, 64, 32, 32]           1,728\n",
            "       BatchNorm2d-2           [-1, 64, 32, 32]             128\n",
            "            Conv2d-3           [-1, 64, 32, 32]          36,864\n",
            "       BatchNorm2d-4           [-1, 64, 32, 32]             128\n",
            "           Dropout-5           [-1, 64, 32, 32]               0\n",
            "            Conv2d-6           [-1, 64, 32, 32]          36,864\n",
            "       BatchNorm2d-7           [-1, 64, 32, 32]             128\n",
            "        BasicBlock-8           [-1, 64, 32, 32]               0\n",
            "            Conv2d-9           [-1, 64, 32, 32]          36,864\n",
            "      BatchNorm2d-10           [-1, 64, 32, 32]             128\n",
            "          Dropout-11           [-1, 64, 32, 32]               0\n",
            "           Conv2d-12           [-1, 64, 32, 32]          36,864\n",
            "      BatchNorm2d-13           [-1, 64, 32, 32]             128\n",
            "       BasicBlock-14           [-1, 64, 32, 32]               0\n",
            "           Conv2d-15           [-1, 64, 32, 32]          36,864\n",
            "      BatchNorm2d-16           [-1, 64, 32, 32]             128\n",
            "          Dropout-17           [-1, 64, 32, 32]               0\n",
            "           Conv2d-18           [-1, 64, 32, 32]          36,864\n",
            "      BatchNorm2d-19           [-1, 64, 32, 32]             128\n",
            "       BasicBlock-20           [-1, 64, 32, 32]               0\n",
            "           Conv2d-21          [-1, 128, 16, 16]          73,728\n",
            "      BatchNorm2d-22          [-1, 128, 16, 16]             256\n",
            "          Dropout-23          [-1, 128, 16, 16]               0\n",
            "           Conv2d-24          [-1, 128, 16, 16]         147,456\n",
            "      BatchNorm2d-25          [-1, 128, 16, 16]             256\n",
            "           Conv2d-26          [-1, 128, 16, 16]           8,192\n",
            "      BatchNorm2d-27          [-1, 128, 16, 16]             256\n",
            "       BasicBlock-28          [-1, 128, 16, 16]               0\n",
            "           Conv2d-29          [-1, 128, 16, 16]         147,456\n",
            "      BatchNorm2d-30          [-1, 128, 16, 16]             256\n",
            "          Dropout-31          [-1, 128, 16, 16]               0\n",
            "           Conv2d-32          [-1, 128, 16, 16]         147,456\n",
            "      BatchNorm2d-33          [-1, 128, 16, 16]             256\n",
            "       BasicBlock-34          [-1, 128, 16, 16]               0\n",
            "           Conv2d-35          [-1, 128, 16, 16]         147,456\n",
            "      BatchNorm2d-36          [-1, 128, 16, 16]             256\n",
            "          Dropout-37          [-1, 128, 16, 16]               0\n",
            "           Conv2d-38          [-1, 128, 16, 16]         147,456\n",
            "      BatchNorm2d-39          [-1, 128, 16, 16]             256\n",
            "       BasicBlock-40          [-1, 128, 16, 16]               0\n",
            "           Conv2d-41            [-1, 256, 8, 8]         294,912\n",
            "      BatchNorm2d-42            [-1, 256, 8, 8]             512\n",
            "          Dropout-43            [-1, 256, 8, 8]               0\n",
            "           Conv2d-44            [-1, 256, 8, 8]         589,824\n",
            "      BatchNorm2d-45            [-1, 256, 8, 8]             512\n",
            "           Conv2d-46            [-1, 256, 8, 8]          32,768\n",
            "      BatchNorm2d-47            [-1, 256, 8, 8]             512\n",
            "       BasicBlock-48            [-1, 256, 8, 8]               0\n",
            "           Conv2d-49            [-1, 256, 8, 8]         589,824\n",
            "      BatchNorm2d-50            [-1, 256, 8, 8]             512\n",
            "          Dropout-51            [-1, 256, 8, 8]               0\n",
            "           Conv2d-52            [-1, 256, 8, 8]         589,824\n",
            "      BatchNorm2d-53            [-1, 256, 8, 8]             512\n",
            "       BasicBlock-54            [-1, 256, 8, 8]               0\n",
            "           Linear-55                   [-1, 10]          10,250\n",
            "================================================================\n",
            "Total params: 3,154,762\n",
            "Trainable params: 3,154,762\n",
            "Non-trainable params: 0\n",
            "----------------------------------------------------------------\n",
            "Input size (MB): 0.01\n",
            "Forward/backward pass size (MB): 16.75\n",
            "Params size (MB): 12.03\n",
            "Estimated Total Size (MB): 28.80\n",
            "----------------------------------------------------------------\n"
          ]
        }
      ]
    },
    {
      "cell_type": "code",
      "source": [
        "def train_epoch(model, dataloader, optimizer, loss_func, device):\n",
        "    model.train()\n",
        "    total_loss = 0\n",
        "    total_accuracy = 0\n",
        "    for inputs, labels in dataloader:\n",
        "        inputs, labels = inputs.to(device), labels.to(device)\n",
        "        optimizer.zero_grad()\n",
        "        outputs = model(inputs)\n",
        "        loss = loss_func(outputs, labels)\n",
        "        loss.backward()\n",
        "        decay_learning_rate(optimizer,epoch,max_rate)\n",
        "        optimizer.step()\n",
        "        total_loss += loss.item()\n",
        "        preds = torch.max(outputs, 1)[1]\n",
        "        accuracy = (preds == labels).float().mean()\n",
        "        total_accuracy += accuracy.item()\n",
        "    avg_loss = total_loss / len(dataloader)\n",
        "    avg_accuracy = total_accuracy / len(dataloader) * 100\n",
        "    return avg_loss, avg_accuracy\n",
        "\n",
        "\n",
        "def evaluate(model, dataloader, loss_func, device):\n",
        "    model.eval()\n",
        "    total_loss = 0\n",
        "    total_accuracy = 0\n",
        "    with torch.no_grad():\n",
        "        for inputs, labels in dataloader:\n",
        "            inputs, labels = inputs.to(device), labels.to(device)\n",
        "            outputs = model(inputs)\n",
        "            loss = loss_func(outputs, labels)\n",
        "            total_loss += loss.item()\n",
        "            preds = torch.max(outputs, 1)[1]\n",
        "            accuracy = (preds == labels).float().mean()\n",
        "            total_accuracy += accuracy.item()\n",
        "    avg_loss = total_loss / len(dataloader)\n",
        "    avg_accuracy = total_accuracy / len(dataloader) * 100\n",
        "    return avg_loss, avg_accuracy\n",
        "\n",
        "def save_checkpoint(state, filename='checkpoint.pth.tar'):\n",
        "    torch.save(state, filename)\n",
        "\n",
        "def load_checkpoint(filename):\n",
        "    if os.path.exists(filename):\n",
        "        checkpoint = torch.load(filename)\n",
        "        return checkpoint\n",
        "    else:\n",
        "        return None"
      ],
      "metadata": {
        "id": "UiWknRCQdoDN"
      },
      "execution_count": 9,
      "outputs": []
    },
    {
      "cell_type": "code",
      "source": [
        "# Training setup\n",
        "model.to(device)\n",
        "loss_func = Loss\n",
        "optimizer = optimizer\n",
        "record = 'path_to_checkpoint.pth.tar'\n",
        "checkpoint = load_checkpoint(record)\n",
        "\n",
        "if checkpoint:\n",
        "    model.load_state_dict(checkpoint['model_state_dict'])\n",
        "    optimizer.load_state_dict(checkpoint['optimizer_state_dict'])\n",
        "    Loss = checkpoint['Loss']\n",
        "    train_loss_history = checkpoint['train_loss_history']\n",
        "    test_loss_history = checkpoint['test_loss_history']\n",
        "    test_accuracy_history = checkpoint['test_accuracy_history']\n",
        "    train_accuracy_history = checkpoint['train_accuracy_history']\n",
        "else:\n",
        "    train_loss_history, test_loss_history = [], []\n",
        "    train_accuracy_history, test_accuracy_history = [], []\n",
        "    for epoch in range(1, epoch_num + 1):\n",
        "        train_loss, train_accuracy = train_epoch(model, train_dataloader, optimizer, loss_func, device)\n",
        "        test_loss, test_accuracy = evaluate(model, test_dataloader, loss_func, device)\n",
        "\n",
        "        train_loss_history.append(train_loss)\n",
        "        test_loss_history.append(test_loss)\n",
        "        train_accuracy_history.append(train_accuracy)\n",
        "        test_accuracy_history.append(test_accuracy)\n",
        "\n",
        "        print(f'Epoch #{epoch:2}, Train Accuracy: {train_accuracy:.2f}%, Test Accuracy: {test_accuracy:.2f}%')\n",
        "\n",
        "        save_checkpoint({\n",
        "            'epoch': epoch,\n",
        "            'model_state_dict': model.state_dict(),\n",
        "            'optimizer_state_dict': optimizer.state_dict(),\n",
        "            'Loss': loss_func,\n",
        "            'train_loss_history': train_loss_history,\n",
        "            'test_loss_history': test_loss_history,\n",
        "            'test_accuracy_history': test_accuracy_history,\n",
        "            'train_accuracy_history': train_accuracy_history\n",
        "        }, record)\n",
        "\n"
      ],
      "metadata": {
        "colab": {
          "base_uri": "https://localhost:8080/"
        },
        "id": "0FuH3Rs5dy0K",
        "outputId": "0ad0e92c-93da-4af9-bf9c-804473cc5c9d"
      },
      "execution_count": 10,
      "outputs": [
        {
          "output_type": "stream",
          "name": "stdout",
          "text": [
            "Epoch # 1, Train Accuracy: 49.76%, Test Accuracy: 57.11%\n",
            "Epoch # 2, Train Accuracy: 66.40%, Test Accuracy: 72.36%\n",
            "Epoch # 3, Train Accuracy: 73.85%, Test Accuracy: 77.59%\n",
            "Epoch # 4, Train Accuracy: 77.76%, Test Accuracy: 79.55%\n",
            "Epoch # 5, Train Accuracy: 80.74%, Test Accuracy: 79.81%\n",
            "Epoch # 6, Train Accuracy: 83.79%, Test Accuracy: 82.86%\n",
            "Epoch # 7, Train Accuracy: 85.70%, Test Accuracy: 83.12%\n",
            "Epoch # 8, Train Accuracy: 87.22%, Test Accuracy: 86.81%\n",
            "Epoch # 9, Train Accuracy: 88.33%, Test Accuracy: 86.96%\n",
            "Epoch #10, Train Accuracy: 89.50%, Test Accuracy: 86.21%\n",
            "Epoch #11, Train Accuracy: 90.19%, Test Accuracy: 87.74%\n",
            "Epoch #12, Train Accuracy: 90.94%, Test Accuracy: 87.48%\n",
            "Epoch #13, Train Accuracy: 91.69%, Test Accuracy: 86.34%\n",
            "Epoch #14, Train Accuracy: 92.34%, Test Accuracy: 88.74%\n",
            "Epoch #15, Train Accuracy: 92.79%, Test Accuracy: 89.36%\n",
            "Epoch #16, Train Accuracy: 94.98%, Test Accuracy: 91.72%\n",
            "Epoch #17, Train Accuracy: 96.37%, Test Accuracy: 92.06%\n",
            "Epoch #18, Train Accuracy: 97.05%, Test Accuracy: 92.41%\n",
            "Epoch #19, Train Accuracy: 97.44%, Test Accuracy: 92.40%\n",
            "Epoch #20, Train Accuracy: 97.63%, Test Accuracy: 92.48%\n",
            "Epoch #21, Train Accuracy: 97.85%, Test Accuracy: 92.75%\n",
            "Epoch #22, Train Accuracy: 97.85%, Test Accuracy: 92.71%\n",
            "Epoch #23, Train Accuracy: 97.83%, Test Accuracy: 92.69%\n",
            "Epoch #24, Train Accuracy: 97.85%, Test Accuracy: 92.70%\n",
            "Epoch #25, Train Accuracy: 97.97%, Test Accuracy: 92.75%\n",
            "Epoch #26, Train Accuracy: 97.88%, Test Accuracy: 92.70%\n",
            "Epoch #27, Train Accuracy: 97.87%, Test Accuracy: 92.78%\n",
            "Epoch #28, Train Accuracy: 97.90%, Test Accuracy: 92.64%\n",
            "Epoch #29, Train Accuracy: 97.97%, Test Accuracy: 92.81%\n",
            "Epoch #30, Train Accuracy: 97.95%, Test Accuracy: 92.83%\n"
          ]
        }
      ]
    },
    {
      "cell_type": "code",
      "source": [
        "plt.figure(figsize=(15,5))\n",
        "plt.subplot(1,2,1)\n",
        "plt.plot(range(1,epoch_num+1),train_loss_history,label='Train loss')\n",
        "plt.plot(range(1,epoch_num+1),test_loss_history,label='Test loss')\n",
        "plt.xlabel('epoch')\n",
        "plt.ylabel('loss')\n",
        "plt.xlim([0, epoch_num])\n",
        "plt.legend()"
      ],
      "metadata": {
        "colab": {
          "base_uri": "https://localhost:8080/",
          "height": 483
        },
        "id": "QWVQzhMZdy5a",
        "outputId": "161a0a7d-89af-48bc-f4a1-91af88964782"
      },
      "execution_count": 11,
      "outputs": [
        {
          "output_type": "execute_result",
          "data": {
            "text/plain": [
              "<matplotlib.legend.Legend at 0x78ae599f9450>"
            ]
          },
          "metadata": {},
          "execution_count": 11
        },
        {
          "output_type": "display_data",
          "data": {
            "text/plain": [
              "<Figure size 1500x500 with 1 Axes>"
            ],
            "image/png": "[encoded data removed]"
          },
          "metadata": {}
        }
      ]
    },
    {
      "cell_type": "code",
      "source": [
        "plt.subplot(1,2,2)\n",
        "print(train_accuracy_history)\n",
        "plt.plot(range(1,epoch_num+1),train_accuracy_history,label='Train accuracy')\n",
        "plt.plot(range(1,epoch_num+1),test_accuracy_history,label='Test accuracy')\n",
        "plt.xlim([0, epoch_num])\n",
        "plt.xlabel('epoch')\n",
        "plt.ylabel('accuracy')\n",
        "plt.legend()"
      ],
      "metadata": {
        "colab": {
          "base_uri": "https://localhost:8080/",
          "height": 508
        },
        "id": "60hGdDEHdy95",
        "outputId": "c197be8b-cf19-4939-a0d0-b36f85d4d791"
      },
      "execution_count": 12,
      "outputs": [
        {
          "output_type": "stream",
          "name": "stdout",
          "text": [
            "[49.764226342711, 66.40065537999048, 73.84550832116695, 77.75655370539106, 80.74168797649081, 83.7855658567775, 85.70292518876703, 87.22426470588235, 88.32880435392376, 89.49968031300303, 90.19181586592399, 90.93630115699281, 91.68718030385654, 92.33975384546362, 92.79092071611254, 94.97562340458336, 96.36548913043478, 97.0504315917754, 97.44045716112531, 97.62707800816392, 97.84566816466544, 97.85406010230179, 97.83248082756081, 97.85406010230179, 97.965952685422, 97.88443095543805, 97.87324168493072, 97.90161445622554, 97.96635231093677, 97.95196611253198]\n"
          ]
        },
        {
          "output_type": "execute_result",
          "data": {
            "text/plain": [
              "<matplotlib.legend.Legend at 0x78ae597df670>"
            ]
          },
          "metadata": {},
          "execution_count": 12
        },
        {
          "output_type": "display_data",
          "data": {
            "text/plain": [
              "<Figure size 640x480 with 1 Axes>"
            ],
            "image/png": "[encoded data removed]"
          },
          "metadata": {}
        }
      ]
    }
  ]
}